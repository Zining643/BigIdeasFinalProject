{
 "cells": [
  {
   "cell_type": "code",
   "execution_count": null,
   "metadata": {},
   "outputs": [],
   "source": [
    "import pandas as pd\n",
    "import re\n",
    "\n",
    "def getzc(incidentLocation):#this method is used to take the information under the Incident Location column and get the zip code\n",
    "    zc = r'\\b\\d{5}\\b' #matches 5 digits at the end of a string\n",
    "    y = re.search(zc, incidentLocation)\n",
    "    \n",
    "    if y:#zip code is found\n",
    "        return y.group(0)\n",
    "    else:#no zip code is found\n",
    "        return None\n",
    "    \n",
    "chip = pd.read_csv(\"Police Incident Blotter data.csv\", sep=\",\")\n",
    "\n",
    "\n",
    "\n",
    "zipList = []\n",
    "for i in range(312145):\n",
    "    x = chip.iloc[i, 4]\n",
    "    xzc = getzc(x)\n",
    "    #print(xzc) #will print either a 5 digit zip code or \"None\"\n",
    "    zipList.append(xzc)\n",
    "    \n",
    "d = dict()\n",
    "for c in zipList:\n",
    "    if c not in d:\n",
    "        d[c] = 1\n",
    "    else:\n",
    "        d[c] = d[c] + 1\n",
    "print(\"this is the number of crimes per zip code from January 1st, 2016, to Febuary 18th, 2023\")\n",
    "print(d)\n",
    "print(\"there are \", len(d), \" different zip codes in this data set\")\n",
    "\n"
   ]
  },
  {
   "cell_type": "code",
   "execution_count": null,
   "metadata": {},
   "outputs": [],
   "source": []
  },
  {
   "cell_type": "code",
   "execution_count": null,
   "metadata": {},
   "outputs": [],
   "source": []
  }
 ],
 "metadata": {
  "kernelspec": {
   "display_name": "Python 3",
   "language": "python",
   "name": "python3"
  },
  "language_info": {
   "codemirror_mode": {
    "name": "ipython",
    "version": 3
   },
   "file_extension": ".py",
   "mimetype": "text/x-python",
   "name": "python",
   "nbconvert_exporter": "python",
   "pygments_lexer": "ipython3",
   "version": "3.8.3"
  }
 },
 "nbformat": 4,
 "nbformat_minor": 4
}
