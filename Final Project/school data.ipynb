{
 "cells": [
  {
   "cell_type": "markdown",
   "metadata": {},
   "source": [
    "# Introduction \n",
    "\n",
    "### Zining Chen \n",
    "\n",
    "I choose to look at the number of schools in each neighborhood in Pittsburgh because I believe that accessibility to education is a very important factor when choosing where to live, since in America's education system, schooling is connected to property tax. Some alternatives we explored were green space and population. However, since our audience for our choice were family units and K-12 education is the foundation of a student's academic career, providing the basic knowledge and skills necessary for success in college and the workplace, we came to the conclusion that adding an education-related metric is the best way to tailor towards their needs."
   ]
  },
  {
   "cell_type": "markdown",
   "metadata": {},
   "source": [
    "# The Metric\n",
    "The data set was from Western Pennsylvania Regional Data Center:   https://data.wprdc.org/dataset/46fb3ca4-e844-4b42-b034-e87291d34699/resource/06664b02-c673-49d5-8a70-d3cd1c18ac8d/download/pps_schoolsapr2019publish.csv\n",
    "\n",
    "The dataset consisted of the name of the school and its address (city, zip code,latitude, and longitude)\n",
    "\n",
    "I utilized it to determine the number of schools in each zip code, as a greater number of schools corresponds to a higher level of educational accessibility within the community.\n"
   ]
  },
  {
   "cell_type": "code",
   "execution_count": 19,
   "metadata": {},
   "outputs": [
    {
     "name": "stdout",
     "output_type": "stream",
     "text": [
      "this is the number of K-12 schools for each zip code\n",
      "{15217: 6, 15212: 15, 15210: 9, 15201: 5, 15216: 6, 15226: 7, 15222: 2, 15204: 3, 15213: 4, 15220: 2, 15214: 2, 15233: 5, 15221: 1, 15206: 10, 15208: 6, 15205: 3, 15207: 4, 15232: 1, 15219: 6, 15203: 2, 15211: 1, 15224: 1}\n",
      "there are  22  different zip codes in this data set\n"
     ]
    },
    {
     "name": "stderr",
     "output_type": "stream",
     "text": [
      "<ipython-input-19-25e48ee5b221>:3: ParserWarning: Falling back to the 'python' engine because the 'c' engine does not support regex separators (separators > 1 char and different from '\\s+' are interpreted as regex); you can avoid this warning by specifying engine='python'.\n",
      "  chip = pd.read_csv(\"School Districts.csv\", sep=\"\\,\")\n"
     ]
    },
    {
     "data": {
      "text/html": [
       "<div>\n",
       "<style scoped>\n",
       "    .dataframe tbody tr th:only-of-type {\n",
       "        vertical-align: middle;\n",
       "    }\n",
       "\n",
       "    .dataframe tbody tr th {\n",
       "        vertical-align: top;\n",
       "    }\n",
       "\n",
       "    .dataframe thead th {\n",
       "        text-align: right;\n",
       "    }\n",
       "</style>\n",
       "<table border=\"1\" class=\"dataframe\">\n",
       "  <thead>\n",
       "    <tr style=\"text-align: right;\">\n",
       "      <th></th>\n",
       "      <th>Zip Code</th>\n",
       "      <th>Number of K-12 Schools</th>\n",
       "    </tr>\n",
       "  </thead>\n",
       "  <tbody>\n",
       "    <tr>\n",
       "      <th>0</th>\n",
       "      <td>15217</td>\n",
       "      <td>6</td>\n",
       "    </tr>\n",
       "    <tr>\n",
       "      <th>1</th>\n",
       "      <td>15212</td>\n",
       "      <td>15</td>\n",
       "    </tr>\n",
       "    <tr>\n",
       "      <th>2</th>\n",
       "      <td>15210</td>\n",
       "      <td>9</td>\n",
       "    </tr>\n",
       "    <tr>\n",
       "      <th>3</th>\n",
       "      <td>15201</td>\n",
       "      <td>5</td>\n",
       "    </tr>\n",
       "    <tr>\n",
       "      <th>4</th>\n",
       "      <td>15216</td>\n",
       "      <td>6</td>\n",
       "    </tr>\n",
       "    <tr>\n",
       "      <th>5</th>\n",
       "      <td>15226</td>\n",
       "      <td>7</td>\n",
       "    </tr>\n",
       "    <tr>\n",
       "      <th>6</th>\n",
       "      <td>15222</td>\n",
       "      <td>2</td>\n",
       "    </tr>\n",
       "    <tr>\n",
       "      <th>7</th>\n",
       "      <td>15204</td>\n",
       "      <td>3</td>\n",
       "    </tr>\n",
       "    <tr>\n",
       "      <th>8</th>\n",
       "      <td>15213</td>\n",
       "      <td>4</td>\n",
       "    </tr>\n",
       "    <tr>\n",
       "      <th>9</th>\n",
       "      <td>15220</td>\n",
       "      <td>2</td>\n",
       "    </tr>\n",
       "    <tr>\n",
       "      <th>10</th>\n",
       "      <td>15214</td>\n",
       "      <td>2</td>\n",
       "    </tr>\n",
       "    <tr>\n",
       "      <th>11</th>\n",
       "      <td>15233</td>\n",
       "      <td>5</td>\n",
       "    </tr>\n",
       "    <tr>\n",
       "      <th>12</th>\n",
       "      <td>15221</td>\n",
       "      <td>1</td>\n",
       "    </tr>\n",
       "    <tr>\n",
       "      <th>13</th>\n",
       "      <td>15206</td>\n",
       "      <td>10</td>\n",
       "    </tr>\n",
       "    <tr>\n",
       "      <th>14</th>\n",
       "      <td>15208</td>\n",
       "      <td>6</td>\n",
       "    </tr>\n",
       "    <tr>\n",
       "      <th>15</th>\n",
       "      <td>15205</td>\n",
       "      <td>3</td>\n",
       "    </tr>\n",
       "    <tr>\n",
       "      <th>16</th>\n",
       "      <td>15207</td>\n",
       "      <td>4</td>\n",
       "    </tr>\n",
       "    <tr>\n",
       "      <th>17</th>\n",
       "      <td>15232</td>\n",
       "      <td>1</td>\n",
       "    </tr>\n",
       "    <tr>\n",
       "      <th>18</th>\n",
       "      <td>15219</td>\n",
       "      <td>6</td>\n",
       "    </tr>\n",
       "    <tr>\n",
       "      <th>19</th>\n",
       "      <td>15203</td>\n",
       "      <td>2</td>\n",
       "    </tr>\n",
       "    <tr>\n",
       "      <th>20</th>\n",
       "      <td>15211</td>\n",
       "      <td>1</td>\n",
       "    </tr>\n",
       "    <tr>\n",
       "      <th>21</th>\n",
       "      <td>15224</td>\n",
       "      <td>1</td>\n",
       "    </tr>\n",
       "  </tbody>\n",
       "</table>\n",
       "</div>"
      ],
      "text/plain": [
       "    Zip Code  Number of K-12 Schools\n",
       "0      15217                       6\n",
       "1      15212                      15\n",
       "2      15210                       9\n",
       "3      15201                       5\n",
       "4      15216                       6\n",
       "5      15226                       7\n",
       "6      15222                       2\n",
       "7      15204                       3\n",
       "8      15213                       4\n",
       "9      15220                       2\n",
       "10     15214                       2\n",
       "11     15233                       5\n",
       "12     15221                       1\n",
       "13     15206                      10\n",
       "14     15208                       6\n",
       "15     15205                       3\n",
       "16     15207                       4\n",
       "17     15232                       1\n",
       "18     15219                       6\n",
       "19     15203                       2\n",
       "20     15211                       1\n",
       "21     15224                       1"
      ]
     },
     "execution_count": 19,
     "metadata": {},
     "output_type": "execute_result"
    }
   ],
   "source": [
    "import pandas as pd\n",
    "\n",
    "chip = pd.read_csv(\"School Districts.csv\", sep=\"\\,\")\n",
    "zipList = []\n",
    "for i in range(101)      :#test for the zip code 15203 since it comes up 3 times in 0-15\n",
    "    x = chip.iloc[i, 5]\n",
    "    zipList.append(x)\n",
    "    \n",
    "# storing varibles within dictionary \n",
    "\n",
    "d = dict()\n",
    "for c in zipList:\n",
    "    if c not in d:\n",
    "        d[c] = 1\n",
    "    else:\n",
    "        d[c] = d[c] + 1\n",
    "        \n",
    "print(\"this is the number of K-12 schools for each zip code\")\n",
    "print(d)\n",
    "print(\"there are \", len(d), \" different zip codes in this data set\")\n",
    "\n",
    "\n",
    "# create a DataFrame with school data\n",
    "\n",
    "column_names = [\"Zip Code\",\"Number of K-12 Schools\"]\n",
    "\n",
    "df_schools = pd.DataFrame(list(d.items()), columns = column_names)\n",
    "df_schools\n"
   ]
  },
  {
   "cell_type": "code",
   "execution_count": 18,
   "metadata": {},
   "outputs": [
    {
     "data": {
      "image/png": "[encoded data removed]",
      "text/plain": [
       "<Figure size 432x288 with 1 Axes>"
      ]
     },
     "metadata": {
      "needs_background": "light"
     },
     "output_type": "display_data"
    }
   ],
   "source": [
    "import matplotlib.pyplot as plt\n",
    "\n",
    "plt.bar(df_schools[\"Zip Code\"],df_schools['Number of K-12 Schools'])\n",
    "\n",
    "plt.xticks(df_schools[\"Zip Code\"], rotation = 90)\n",
    "\n",
    "plt.title('Numbers of Schools in Each Zip Code in Pittsburgh')\n",
    "plt.xlabel('Zip Code')\n",
    "\n",
    "plt.ylabel('Number of K-12 Schools')\n",
    "\n",
    "plt.show()"
   ]
  },
  {
   "cell_type": "markdown",
   "metadata": {},
   "source": [
    "# The Best Neighborhood: Perry South\n",
    "The zip code 15212, neighborhood Perry South has the most amount of schools: 15 schools shown by having the highest bar on the chart. "
   ]
  },
  {
   "cell_type": "markdown",
   "metadata": {},
   "source": [
    "# Conclusion: \n",
    "My personal favorite neighborhood is Squirll Hill (zip code:15217) because they have the most authentic Chinese food. I've also seen many schools on the bus ride to there, so I assumed that it would rank into the top five on our chart since education was one of our metrics. However, that was not the case. The data driven determination gave us a totally different result and unfortunaly, my favrotie niegborhood did not make it onto the chart. "
   ]
  }
 ],
 "metadata": {
  "kernelspec": {
   "display_name": "Python 3",
   "language": "python",
   "name": "python3"
  },
  "language_info": {
   "codemirror_mode": {
    "name": "ipython",
    "version": 3
   },
   "file_extension": ".py",
   "mimetype": "text/x-python",
   "name": "python",
   "nbconvert_exporter": "python",
   "pygments_lexer": "ipython3",
   "version": "3.8.3"
  }
 },
 "nbformat": 4,
 "nbformat_minor": 4
}
