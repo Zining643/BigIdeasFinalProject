{
 "cells": [
  {
   "cell_type": "code",
   "execution_count": 1,
   "metadata": {},
   "outputs": [
    {
     "name": "stdout",
     "output_type": "stream",
     "text": [
      "this is the number of K-12 schools for each zip code\n",
      "{15217: 6, 15212: 15, 15210: 9, 15201: 5, 15216: 6, 15226: 7, 15222: 2, 15204: 3, 15213: 4, 15220: 2, 15214: 2, 15233: 5, 15221: 1, 15206: 10, 15208: 6, 15205: 3, 15207: 4, 15232: 1, 15219: 6, 15203: 2, 15211: 1, 15224: 1}\n",
      "there are  22  different zip codes in this data set\n"
     ]
    },
    {
     "name": "stderr",
     "output_type": "stream",
     "text": [
      "<ipython-input-1-ba81734188ce>:3: ParserWarning: Falling back to the 'python' engine because the 'c' engine does not support regex separators (separators > 1 char and different from '\\s+' are interpreted as regex); you can avoid this warning by specifying engine='python'.\n",
      "  chip = pd.read_csv(\"School Districts.csv\", sep=\"\\,\")\n"
     ]
    }
   ],
   "source": [
    "import pandas as pd\n",
    "\n",
    "chip = pd.read_csv(\"School Districts.csv\", sep=\"\\,\")\n",
    "zipList = []\n",
    "for i in range(101):#test for the zip code 15203 since it comes up 3 times in 0-15\n",
    "    x = chip.iloc[i, 5]\n",
    "    zipList.append(x)\n",
    "    \n",
    "d = dict()\n",
    "for c in zipList:\n",
    "    if c not in d:\n",
    "        d[c] = 1\n",
    "    else:\n",
    "        d[c] = d[c] + 1\n",
    "print(\"this is the number of K-12 schools for each zip code\")\n",
    "print(d)\n",
    "print(\"there are \", len(d), \" different zip codes in this data set\")\n",
    "\n",
    "\n",
    "\n",
    "\n"
   ]
  },
  {
   "cell_type": "code",
   "execution_count": null,
   "metadata": {},
   "outputs": [],
   "source": []
  },
  {
   "cell_type": "code",
   "execution_count": null,
   "metadata": {},
   "outputs": [],
   "source": []
  }
 ],
 "metadata": {
  "kernelspec": {
   "display_name": "Python 3",
   "language": "python",
   "name": "python3"
  },
  "language_info": {
   "codemirror_mode": {
    "name": "ipython",
    "version": 3
   },
   "file_extension": ".py",
   "mimetype": "text/x-python",
   "name": "python",
   "nbconvert_exporter": "python",
   "pygments_lexer": "ipython3",
   "version": "3.8.3"
  }
 },
 "nbformat": 4,
 "nbformat_minor": 4
}
