{
 "cells": [
  {
   "cell_type": "code",
   "execution_count": 8,
   "metadata": {},
   "outputs": [
    {
     "name": "stdout",
     "output_type": "stream",
     "text": [
      "this is the number of fast food resturants for each zip code\n",
      "{15237: 44, 15219: 27, 15210: 11, 15108: 19, 15126: 1, 15205: 36, 15065: 10, 15146: 51, 15216: 11, 15213: 38, 15017: 19, 15136: 12, 15044: 14, 16046: 3, 15234: 11, 15218: 7, 15147: 7, 15122: 16, 15202: 13, 15239: 9, 15236: 25, 15102: 21, 15131: 9, 15222: 46, 15123: 3, 15231: 11, 15084: 15, 15232: 12, 15241: 15, 15090: 18, 15203: 19, 15238: 18, 15106: 10, 15120: 16, 15137: 13, 15025: 2, 15224: 6, 15220: 15, 15275: 10, 15143: 10, 15217: 20, 15101: 10, 15223: 5, 15071: 3, 15227: 12, 15206: 11, 15282: 1, 15212: 9, 15201: 5, 15221: 12, 15034: 4, 15229: 8, 15235: 22, 15132: 9, 15228: 7, 15211: 2, 15116: 3, 15076: 1, 15145: 2, 15226: 7, 15037: 3, 15140: 1, 15139: 3, 15209: 3, 15208: 1, 15207: 1, 15129: 1, 15215: 4, 15144: 1, 15024: 2, 15110: 2, 15233: 3, 15148: 1, 15003: 1, 15225: 1, 15045: 1, 15056: 2}\n",
      "there are  77  different zip codes in this data set\n"
     ]
    }
   ],
   "source": [
    "import pandas as pd\n",
    "\n",
    "chip = pd.read_csv(\"fast food.csv\", sep=\",\")\n",
    "\n",
    "\n",
    "\n",
    "zipList = []\n",
    "for i in range(837):#test for the zip code 15203 since it comes up 3 times in 0-15\n",
    "    x = chip.iloc[i, 5]\n",
    "    zipList.append(x)\n",
    "    \n",
    "d = dict()\n",
    "for c in zipList:\n",
    "    if c not in d:\n",
    "        d[c] = 1\n",
    "    else:\n",
    "        d[c] = d[c] + 1\n",
    "print(\"this is the number of fast food resturants for each zip code\")\n",
    "print(d)\n",
    "print(\"there are \", len(d), \" different zip codes in this data set\")\n",
    "\n"
   ]
  },
  {
   "cell_type": "code",
   "execution_count": null,
   "metadata": {},
   "outputs": [],
   "source": []
  },
  {
   "cell_type": "code",
   "execution_count": null,
   "metadata": {},
   "outputs": [],
   "source": []
  },
  {
   "cell_type": "code",
   "execution_count": null,
   "metadata": {},
   "outputs": [],
   "source": []
  }
 ],
 "metadata": {
  "kernelspec": {
   "display_name": "Python 3",
   "language": "python",
   "name": "python3"
  },
  "language_info": {
   "codemirror_mode": {
    "name": "ipython",
    "version": 3
   },
   "file_extension": ".py",
   "mimetype": "text/x-python",
   "name": "python",
   "nbconvert_exporter": "python",
   "pygments_lexer": "ipython3",
   "version": "3.8.3"
  }
 },
 "nbformat": 4,
 "nbformat_minor": 4
}
